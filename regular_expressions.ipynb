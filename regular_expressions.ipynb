{
 "cells": [
  {
   "cell_type": "code",
   "execution_count": 1,
   "id": "4401dee0",
   "metadata": {},
   "outputs": [],
   "source": [
    "text=\"The agent's phone number is 408-555-1234!\""
   ]
  },
  {
   "cell_type": "markdown",
   "id": "f484d9b2",
   "metadata": {},
   "source": [
    " by trying to find out if the string 'phone is inside the text string.Noe=w we could quickly do this with:"
   ]
  },
  {
   "cell_type": "code",
   "execution_count": 2,
   "id": "2775cff3",
   "metadata": {},
   "outputs": [
    {
     "data": {
      "text/plain": [
       "True"
      ]
     },
     "execution_count": 2,
     "metadata": {},
     "output_type": "execute_result"
    }
   ],
   "source": [
    "'phone' in text"
   ]
  },
  {
   "cell_type": "code",
   "execution_count": 3,
   "id": "7e2a9863",
   "metadata": {},
   "outputs": [],
   "source": [
    "import re"
   ]
  },
  {
   "cell_type": "code",
   "execution_count": 4,
   "id": "60c9b407",
   "metadata": {},
   "outputs": [],
   "source": [
    "pattern='phone'"
   ]
  },
  {
   "cell_type": "code",
   "execution_count": 5,
   "id": "42ce2d0f",
   "metadata": {},
   "outputs": [
    {
     "data": {
      "text/plain": [
       "<re.Match object; span=(12, 17), match='phone'>"
      ]
     },
     "execution_count": 5,
     "metadata": {},
     "output_type": "execute_result"
    }
   ],
   "source": [
    "re.search(pattern,text)"
   ]
  },
  {
   "cell_type": "code",
   "execution_count": 6,
   "id": "b86a0037",
   "metadata": {},
   "outputs": [],
   "source": [
    "pateern='NOT IN TEXT'\n"
   ]
  },
  {
   "cell_type": "code",
   "execution_count": 9,
   "id": "10413d0f",
   "metadata": {},
   "outputs": [],
   "source": [
    "pattern='phone'"
   ]
  },
  {
   "cell_type": "code",
   "execution_count": 10,
   "id": "8dc28188",
   "metadata": {},
   "outputs": [],
   "source": [
    "match=re.search(pattern,text)"
   ]
  },
  {
   "cell_type": "code",
   "execution_count": null,
   "id": "8742c348",
   "metadata": {},
   "outputs": [],
   "source": []
  },
  {
   "cell_type": "code",
   "execution_count": 11,
   "id": "7cbaa1d0",
   "metadata": {},
   "outputs": [
    {
     "data": {
      "text/plain": [
       "<re.Match object; span=(12, 17), match='phone'>"
      ]
     },
     "execution_count": 11,
     "metadata": {},
     "output_type": "execute_result"
    }
   ],
   "source": [
    "match"
   ]
  },
  {
   "cell_type": "code",
   "execution_count": 12,
   "id": "9bde0b36",
   "metadata": {},
   "outputs": [
    {
     "data": {
      "text/plain": [
       "(12, 17)"
      ]
     },
     "execution_count": 12,
     "metadata": {},
     "output_type": "execute_result"
    }
   ],
   "source": [
    "match.span()"
   ]
  },
  {
   "cell_type": "code",
   "execution_count": 13,
   "id": "3f5fed32",
   "metadata": {},
   "outputs": [
    {
     "data": {
      "text/plain": [
       "17"
      ]
     },
     "execution_count": 13,
     "metadata": {},
     "output_type": "execute_result"
    }
   ],
   "source": [
    "match.end()"
   ]
  },
  {
   "cell_type": "markdown",
   "id": "d9e7789d",
   "metadata": {},
   "source": [
    "but what if a pattern occurs more than once?"
   ]
  },
  {
   "cell_type": "code",
   "execution_count": 14,
   "id": "b846ce5d",
   "metadata": {},
   "outputs": [],
   "source": [
    "text='my phone is a new phone'"
   ]
  },
  {
   "cell_type": "code",
   "execution_count": 16,
   "id": "dcb59dcc",
   "metadata": {},
   "outputs": [],
   "source": [
    "match=re.search(\"phone\",text)"
   ]
  },
  {
   "cell_type": "code",
   "execution_count": 18,
   "id": "3366e2d0",
   "metadata": {},
   "outputs": [
    {
     "data": {
      "text/plain": [
       "(3, 8)"
      ]
     },
     "execution_count": 18,
     "metadata": {},
     "output_type": "execute_result"
    }
   ],
   "source": [
    "match.span()"
   ]
  },
  {
   "cell_type": "markdown",
   "id": "4319144f",
   "metadata": {},
   "source": [
    "notice it only matches the first instance.if we wanted a list of all matches.we can use findall()method:"
   ]
  },
  {
   "cell_type": "code",
   "execution_count": 19,
   "id": "77af0f53",
   "metadata": {},
   "outputs": [],
   "source": [
    "matches=re.findall(\"phone\",text)"
   ]
  },
  {
   "cell_type": "code",
   "execution_count": 21,
   "id": "348e6e64",
   "metadata": {},
   "outputs": [
    {
     "data": {
      "text/plain": [
       "['phone', 'phone']"
      ]
     },
     "execution_count": 21,
     "metadata": {},
     "output_type": "execute_result"
    }
   ],
   "source": [
    "matches"
   ]
  },
  {
   "cell_type": "code",
   "execution_count": 22,
   "id": "2c8ffdeb",
   "metadata": {},
   "outputs": [
    {
     "data": {
      "text/plain": [
       "2"
      ]
     },
     "execution_count": 22,
     "metadata": {},
     "output_type": "execute_result"
    }
   ],
   "source": [
    "len(matches)"
   ]
  },
  {
   "cell_type": "markdown",
   "id": "847b10bd",
   "metadata": {},
   "source": [
    "to get actual object,use the iterator"
   ]
  },
  {
   "cell_type": "code",
   "execution_count": 25,
   "id": "6a963cba",
   "metadata": {},
   "outputs": [
    {
     "name": "stdout",
     "output_type": "stream",
     "text": [
      "(3, 8)\n",
      "(18, 23)\n"
     ]
    }
   ],
   "source": [
    "for match in re.finditer(\"phone\",text):\n",
    "    print(match.span())"
   ]
  },
  {
   "cell_type": "code",
   "execution_count": 26,
   "id": "6ed626e5",
   "metadata": {},
   "outputs": [
    {
     "data": {
      "text/plain": [
       "'phone'"
      ]
     },
     "execution_count": 26,
     "metadata": {},
     "output_type": "execute_result"
    }
   ],
   "source": [
    "match.group()"
   ]
  },
  {
   "cell_type": "code",
   "execution_count": 27,
   "id": "d9b3e8ef",
   "metadata": {},
   "outputs": [],
   "source": [
    "text=\"My phone number is 408-555-1234!\""
   ]
  },
  {
   "cell_type": "code",
   "execution_count": 29,
   "id": "2728454b",
   "metadata": {},
   "outputs": [],
   "source": [
    "phone=re.search(r'\\d\\d\\d-\\d\\d\\d-\\d\\d\\d\\d',text)"
   ]
  },
  {
   "cell_type": "code",
   "execution_count": 30,
   "id": "732c5c09",
   "metadata": {},
   "outputs": [
    {
     "data": {
      "text/plain": [
       "'408-555-1234'"
      ]
     },
     "execution_count": 30,
     "metadata": {},
     "output_type": "execute_result"
    }
   ],
   "source": [
    "phone.group()"
   ]
  },
  {
   "cell_type": "code",
   "execution_count": 31,
   "id": "27f0fba6",
   "metadata": {},
   "outputs": [
    {
     "data": {
      "text/plain": [
       "<re.Match object; span=(19, 31), match='408-555-1234'>"
      ]
     },
     "execution_count": 31,
     "metadata": {},
     "output_type": "execute_result"
    }
   ],
   "source": [
    "re.search(r'\\d{3}-\\d{3}-\\d{4}',text)"
   ]
  },
  {
   "cell_type": "code",
   "execution_count": 33,
   "id": "6bfc6501",
   "metadata": {},
   "outputs": [],
   "source": [
    "phone_pattern=re.compile(r'(\\d{3})-(\\d{3})-(\\d{4})')"
   ]
  },
  {
   "cell_type": "code",
   "execution_count": 36,
   "id": "d9006ebd",
   "metadata": {},
   "outputs": [],
   "source": [
    "results=re.search(phone_pattern,text)"
   ]
  },
  {
   "cell_type": "code",
   "execution_count": 37,
   "id": "6f0d8edd",
   "metadata": {},
   "outputs": [
    {
     "data": {
      "text/plain": [
       "'408-555-1234'"
      ]
     },
     "execution_count": 37,
     "metadata": {},
     "output_type": "execute_result"
    }
   ],
   "source": [
    "results.group()"
   ]
  },
  {
   "cell_type": "code",
   "execution_count": 38,
   "id": "38f12fd2",
   "metadata": {},
   "outputs": [
    {
     "data": {
      "text/plain": [
       "'408'"
      ]
     },
     "execution_count": 38,
     "metadata": {},
     "output_type": "execute_result"
    }
   ],
   "source": [
    "results.group(1)"
   ]
  },
  {
   "cell_type": "code",
   "execution_count": 39,
   "id": "90fea461",
   "metadata": {},
   "outputs": [
    {
     "data": {
      "text/plain": [
       "'555'"
      ]
     },
     "execution_count": 39,
     "metadata": {},
     "output_type": "execute_result"
    }
   ],
   "source": [
    "results.group(2)"
   ]
  },
  {
   "cell_type": "code",
   "execution_count": 40,
   "id": "30536202",
   "metadata": {},
   "outputs": [
    {
     "data": {
      "text/plain": [
       "'1234'"
      ]
     },
     "execution_count": 40,
     "metadata": {},
     "output_type": "execute_result"
    }
   ],
   "source": [
    "results.group(3)"
   ]
  },
  {
   "cell_type": "markdown",
   "id": "431886e5",
   "metadata": {},
   "source": [
    "or operator |-use the pipe operator to have an or statement.for example"
   ]
  },
  {
   "cell_type": "code",
   "execution_count": 57,
   "id": "8998bac1",
   "metadata": {},
   "outputs": [
    {
     "data": {
      "text/plain": [
       "<re.Match object; span=(5, 8), match='man'>"
      ]
     },
     "execution_count": 57,
     "metadata": {},
     "output_type": "execute_result"
    }
   ],
   "source": [
    "re.search(r\"man|women\",\"This man was here.\")"
   ]
  },
  {
   "cell_type": "code",
   "execution_count": 59,
   "id": "a8b60de4",
   "metadata": {},
   "outputs": [
    {
     "data": {
      "text/plain": [
       "<re.Match object; span=(5, 10), match='woman'>"
      ]
     },
     "execution_count": 59,
     "metadata": {},
     "output_type": "execute_result"
    }
   ],
   "source": [
    "re.search(r\"man|woman\",\"This woman was here.\")"
   ]
  },
  {
   "cell_type": "markdown",
   "id": "aacf9b3d",
   "metadata": {},
   "source": [
    "The wildcard charecter used a 'wildcart' as a placement that will match any charecter placed placesd there .You can use a simple period.for this for example:"
   ]
  },
  {
   "cell_type": "code",
   "execution_count": null,
   "id": "0e70584f",
   "metadata": {},
   "outputs": [],
   "source": [
    "re.findall(r\".at\",\"The cat in the hat sat here\")"
   ]
  },
  {
   "cell_type": "code",
   "execution_count": 61,
   "id": "087633ba",
   "metadata": {},
   "outputs": [
    {
     "data": {
      "text/plain": [
       "['bat', 'lat']"
      ]
     },
     "execution_count": 61,
     "metadata": {},
     "output_type": "execute_result"
    }
   ],
   "source": [
    "re.findall(r\".at\",\"The batwent splat\")"
   ]
  },
  {
   "cell_type": "markdown",
   "id": "26a680a1",
   "metadata": {},
   "source": [
    "Notice how we only matche the first 3 letters. that is because we need a .for each wildcart letter.Or use the quantifiers describe above to set its own rule"
   ]
  },
  {
   "cell_type": "code",
   "execution_count": 64,
   "id": "dd6e896d",
   "metadata": {},
   "outputs": [
    {
     "data": {
      "text/plain": [
       "['e bat', 'splat']"
      ]
     },
     "execution_count": 64,
     "metadata": {},
     "output_type": "execute_result"
    }
   ],
   "source": [
    "re.findall(r\"...at\",\"The bat went splat\")"
   ]
  },
  {
   "cell_type": "code",
   "execution_count": 66,
   "id": "bfd87b1c",
   "metadata": {},
   "outputs": [
    {
     "data": {
      "text/plain": [
       "['bat', 'splat']"
      ]
     },
     "execution_count": 66,
     "metadata": {},
     "output_type": "execute_result"
    }
   ],
   "source": [
    "re.findall(r'\\S+at','The bat went splat')"
   ]
  },
  {
   "cell_type": "markdown",
   "id": "fa9377b2",
   "metadata": {},
   "source": [
    "Start with and end with we can use the \"No signal start with and the $ to signal ends with\""
   ]
  },
  {
   "cell_type": "code",
   "execution_count": null,
   "id": "8e1c21db",
   "metadata": {},
   "outputs": [],
   "source": []
  }
 ],
 "metadata": {
  "kernelspec": {
   "display_name": "Python 3 (ipykernel)",
   "language": "python",
   "name": "python3"
  },
  "language_info": {
   "codemirror_mode": {
    "name": "ipython",
    "version": 3
   },
   "file_extension": ".py",
   "mimetype": "text/x-python",
   "name": "python",
   "nbconvert_exporter": "python",
   "pygments_lexer": "ipython3",
   "version": "3.11.7"
  }
 },
 "nbformat": 4,
 "nbformat_minor": 5
}
