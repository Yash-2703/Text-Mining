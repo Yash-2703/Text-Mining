{
 "cells": [
  {
   "cell_type": "code",
   "execution_count": 1,
   "id": "312e3831-742b-4181-8c98-e39a69e86230",
   "metadata": {},
   "outputs": [],
   "source": [
    "#Que 1:"
   ]
  },
  {
   "cell_type": "code",
   "execution_count": 7,
   "id": "903c7dc6-aa11-4a5c-be9c-30f8f35fcecd",
   "metadata": {},
   "outputs": [
    {
     "name": "stdout",
     "output_type": "stream",
     "text": [
      "['James', 'Atomic Habits']\n",
      "['Accenture']\n"
     ]
    }
   ],
   "source": [
    "import spacy \n",
    "def name_entity(text):\n",
    "    \n",
    "    nlp = spacy.load(\"en_core_web_sm\")\n",
    "    doc = nlp(text)\n",
    "    named_entities = [ent.text for ent in doc.ents]\n",
    "    return named_entities\n",
    "\n",
    "text1 = 'James is the author of Atomic Habits'\n",
    "text2 = 'Aarti works at Accenture'\n",
    "\n",
    "print(name_entity(text1))\n",
    "print(name_entity(text2))\n"
   ]
  },
  {
   "cell_type": "code",
   "execution_count": 18,
   "id": "e256226d-d09c-4983-92fe-5a1f92583998",
   "metadata": {},
   "outputs": [
    {
     "name": "stdout",
     "output_type": "stream",
     "text": [
      "spam\n",
      "imp\n",
      "spam\n"
     ]
    }
   ],
   "source": [
    "#que 2 :\n",
    "def classification(text):\n",
    "    spam_words = [\"buy\", \"free\", \"offer\", \"click\", \"win\", \"prize\", \"deal\"]\n",
    "    text_lower = text.lower()\n",
    "    score = 0\n",
    "    for keyword in spam_words:\n",
    "        if keyword in text_lower:\n",
    "            score += 1\n",
    "    if score >= 2:\n",
    "        return \"spam\"\n",
    "    else:\n",
    "        return \"imp\"\n",
    "\n",
    "text1 = \"Buy 1 Get 1 Free\"\n",
    "text2 = \"Meeting is scheduled at 12 PM\"\n",
    "text3 = \"Click on the link below to see the offer.\"\n",
    "\n",
    "print(classification(text1))  \n",
    "print(classification(text2))  \n",
    "print(classification(text3))  \n"
   ]
  },
  {
   "cell_type": "code",
   "execution_count": 20,
   "id": "643c8ef3-679f-43ad-b3b2-706769a501d7",
   "metadata": {},
   "outputs": [
    {
     "name": "stdout",
     "output_type": "stream",
     "text": [
      "['pain', 'stand', 'abstract', 'magic']\n"
     ]
    }
   ],
   "source": [
    "#que 3:\n",
    "import nltk\n",
    "from nltk.stem import PorterStemmer\n",
    "\n",
    "def stem_words(word_list):\n",
    "    stemmer = PorterStemmer()\n",
    "    stemmed_words = [stemmer.stem(word) for word in word_list]\n",
    "    return stemmed_words\n",
    "\n",
    "# Example usage\n",
    "words = ['painful', 'standing', 'abstraction', 'magically']\n",
    "stemmed_words = stem_words(words)\n",
    "print(stemmed_words)\n",
    "\n",
    "\n",
    "\n"
   ]
  },
  {
   "cell_type": "code",
   "execution_count": 23,
   "id": "8bdb48c7-5a59-45cc-8b8b-86f9097dffe3",
   "metadata": {},
   "outputs": [
    {
     "name": "stdout",
     "output_type": "stream",
     "text": [
      "['apple', 'on', 'table.']\n",
      "['engineer.']\n"
     ]
    }
   ],
   "source": [
    "#Que4\n",
    "def remove_stopwords(tokens, stopwords):\n",
    "    filtered_tokens = [word for word in tokens if word.lower() not in stopwords]\n",
    "    return filtered_tokens\n",
    "\n",
    "stopwords = [\"is\", \"a\", \"the\", \"an\", \"she\"]\n",
    "text1 = \"an apple is on the table.\"\n",
    "text2 = \"She is an engineer.\"\n",
    "\n",
    "tokens1 = text1.split()\n",
    "tokens2 = text2.split()\n",
    "\n",
    "filter_tokens1 = remove_stopwords(tokens1, stopwords)\n",
    "filter_tokens2 = remove_stopwords(tokens2, stopwords)\n",
    "\n",
    "print(filter_tokens1)  \n",
    "print(filter_tokens2) \n"
   ]
  },
  {
   "cell_type": "code",
   "execution_count": null,
   "id": "1bb6453a-a1cc-4bfb-8a1f-f5e91a3fbed8",
   "metadata": {},
   "outputs": [],
   "source": []
  }
 ],
 "metadata": {
  "kernelspec": {
   "display_name": "Python 3 (ipykernel)",
   "language": "python",
   "name": "python3"
  },
  "language_info": {
   "codemirror_mode": {
    "name": "ipython",
    "version": 3
   },
   "file_extension": ".py",
   "mimetype": "text/x-python",
   "name": "python",
   "nbconvert_exporter": "python",
   "pygments_lexer": "ipython3",
   "version": "3.11.7"
  }
 },
 "nbformat": 4,
 "nbformat_minor": 5
}
